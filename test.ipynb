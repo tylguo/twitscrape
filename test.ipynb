{
 "cells": [
  {
   "cell_type": "code",
   "execution_count": 3,
   "metadata": {},
   "outputs": [
    {
     "data": {
      "text/plain": [
       "{'__typename': 'Tweet',\n",
       " 'lang': 'en',\n",
       " 'favorite_count': 342,\n",
       " 'possibly_sensitive': False,\n",
       " 'created_at': '2024-06-11T23:44:07.000Z',\n",
       " 'display_text_range': [0, 278],\n",
       " 'entities': {'hashtags': [],\n",
       "  'urls': [{'display_url': 'x.com',\n",
       "    'expanded_url': 'http://x.com',\n",
       "    'indices': [98, 121],\n",
       "    'url': 'https://t.co/IQkNUgCflf'}],\n",
       "  'user_mentions': [],\n",
       "  'symbols': []},\n",
       " 'id_str': '1800675411086409765',\n",
       " 'text': \"Private Likes - API Update 📢\\n\\nAs part of the likes change on X native platform, X API will mirror https://t.co/IQkNUgCflf. Thus, 'Likes Lookup' will now be private in the API as well. Owned 'Likes Lookup' will be available for authenticated users only.\\n\\nLearn more about it in…\",\n",
       " 'user': {'id_str': '2244994945',\n",
       "  'name': 'Developers',\n",
       "  'profile_image_url_https': 'https://pbs.twimg.com/profile_images/1683501992314798080/xl1POYLw_normal.jpg',\n",
       "  'screen_name': 'XDevelopers',\n",
       "  'verified': False,\n",
       "  'verified_type': 'Business',\n",
       "  'highlighted_label': {'description': 'X',\n",
       "   'badge': {'url': 'https://pbs.twimg.com/profile_images/1683899100922511378/5lY42eHs_bigger.jpg'},\n",
       "   'url': {'url': 'https://twitter.com/X', 'url_type': 'DeepLink'},\n",
       "   'user_label_type': 'BusinessLabel',\n",
       "   'user_label_display_type': 'Badge'},\n",
       "  'is_blue_verified': True},\n",
       " 'edit_control': {'edit_tweet_ids': ['1800675411086409765'],\n",
       "  'editable_until_msecs': '1718153047000',\n",
       "  'is_edit_eligible': True,\n",
       "  'edits_remaining': '5'},\n",
       " 'conversation_count': 71,\n",
       " 'news_action_type': 'conversation',\n",
       " 'quoted_tweet': {'lang': 'en',\n",
       "  'reply_count': 16151,\n",
       "  'retweet_count': 10210,\n",
       "  'favorite_count': 65187,\n",
       "  'created_at': '2024-06-11T21:01:03.000Z',\n",
       "  'display_text_range': [0, 278],\n",
       "  'entities': {'hashtags': [], 'urls': [], 'user_mentions': [], 'symbols': []},\n",
       "  'id_str': '1800634371906380067',\n",
       "  'text': 'This week we’re making Likes private for everyone to better protect your privacy.\\n\\n– You will still be able to see posts you have liked (but others cannot).\\n\\n– Like count and other metrics for your own posts will still show up under notifications.\\n\\n– You will no longer see who…',\n",
       "  'user': {'id_str': '6844292',\n",
       "   'name': 'Engineering',\n",
       "   'profile_image_url_https': 'https://pbs.twimg.com/profile_images/1683502255574593536/anU7i4uA_normal.jpg',\n",
       "   'screen_name': 'XEng',\n",
       "   'verified': False,\n",
       "   'verified_type': 'Business',\n",
       "   'highlighted_label': {'description': 'X',\n",
       "    'badge': {'url': 'https://pbs.twimg.com/profile_images/1683899100922511378/5lY42eHs_bigger.jpg'},\n",
       "    'url': {'url': 'https://twitter.com/X', 'url_type': 'DeepLink'},\n",
       "    'user_label_type': 'BusinessLabel',\n",
       "    'user_label_display_type': 'Badge'},\n",
       "   'is_blue_verified': True},\n",
       "  'edit_control': {'edit_tweet_ids': ['1800634371906380067'],\n",
       "   'editable_until_msecs': '1718143263000',\n",
       "   'is_edit_eligible': True,\n",
       "   'edits_remaining': '5'},\n",
       "  'isEdited': False,\n",
       "  'isStaleEdit': False},\n",
       " 'card': {'card_platform': {'platform': {'audience': {'name': 'production'},\n",
       "    'device': {'name': 'iPhone', 'version': '13'}}},\n",
       "  'name': 'summary',\n",
       "  'url': 'https://t.co/IQkNUgCflf',\n",
       "  'binding_values': {'description': {'string_value': 'From breaking news and entertainment to sports and politics, get the full story with all the live commentary.',\n",
       "    'type': 'STRING'},\n",
       "   'domain': {'string_value': 'x.com', 'type': 'STRING'},\n",
       "   'vanity_url': {'scribe_key': 'vanity_url',\n",
       "    'string_value': 'x.com',\n",
       "    'type': 'STRING'},\n",
       "   'title': {'string_value': 'X. It’s what’s happening', 'type': 'STRING'},\n",
       "   'card_url': {'scribe_key': 'card_url',\n",
       "    'string_value': 'https://t.co/IQkNUgCflf',\n",
       "    'type': 'STRING'}}},\n",
       " 'isEdited': False,\n",
       " 'isStaleEdit': False,\n",
       " 'note_tweet': {'id': 'Tm90ZVR3ZWV0UmVzdWx0czoxODAwNjc1NDEwODcyNTk4NTI4'}}"
      ]
     },
     "execution_count": 3,
     "metadata": {},
     "output_type": "execute_result"
    }
   ],
   "source": [
    "import requests\n",
    "\n",
    "id = \"1800675411086409765\"\n",
    "url = f\"https://cdn.syndication.twimg.com/tweet-result?id={id}&token=a\"\n",
    "\n",
    "r = requests.get(url)\n",
    "\n",
    "data = r.json()\n",
    "\n",
    "data"
   ]
  },
  {
   "cell_type": "code",
   "execution_count": 4,
   "metadata": {},
   "outputs": [
    {
     "ename": "SyntaxError",
     "evalue": "invalid syntax (1053723292.py, line 5)",
     "output_type": "error",
     "traceback": [
      "\u001b[1;36m  Cell \u001b[1;32mIn[4], line 5\u001b[1;36m\u001b[0m\n\u001b[1;33m    twscrape add_accounts accounts.txt username:password:email:email_password\u001b[0m\n\u001b[1;37m             ^\u001b[0m\n\u001b[1;31mSyntaxError\u001b[0m\u001b[1;31m:\u001b[0m invalid syntax\n"
     ]
    }
   ],
   "source": [
    "# twscrape add_accounts <file_path> <line_format>\n",
    "# line_format should have \"username\", \"password\", \"email\", \"email_password\" tokens\n",
    "# tokens delimeter should be same as an file\n",
    "import twscrape\n",
    "twscrape add_accounts accounts.txt username:password:email:email_password"
   ]
  }
 ],
 "metadata": {
  "kernelspec": {
   "display_name": "Python 3",
   "language": "python",
   "name": "python3"
  },
  "language_info": {
   "codemirror_mode": {
    "name": "ipython",
    "version": 3
   },
   "file_extension": ".py",
   "mimetype": "text/x-python",
   "name": "python",
   "nbconvert_exporter": "python",
   "pygments_lexer": "ipython3",
   "version": "3.11.7"
  }
 },
 "nbformat": 4,
 "nbformat_minor": 2
}
